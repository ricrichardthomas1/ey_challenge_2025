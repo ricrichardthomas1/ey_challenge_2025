{
 "cells": [
  {
   "cell_type": "markdown",
   "metadata": {},
   "source": [
    "Load the data"
   ]
  },
  {
   "cell_type": "code",
   "execution_count": 4,
   "metadata": {},
   "outputs": [],
   "source": [
    "import geopandas as gpd\n",
    "import pandas as pd\n",
    "import numpy as np\n",
    "import fiona\n",
    "from bs4 import BeautifulSoup"
   ]
  },
  {
   "cell_type": "code",
   "execution_count": 5,
   "metadata": {},
   "outputs": [],
   "source": [
    "import os\n",
    "import pykml"
   ]
  },
  {
   "cell_type": "code",
   "execution_count": 6,
   "metadata": {},
   "outputs": [
    {
     "ename": "FileNotFoundError",
     "evalue": "[Errno 2] No such file or directory: './Dataset'",
     "output_type": "error",
     "traceback": [
      "\u001b[0;31m---------------------------------------------------------------------------\u001b[0m",
      "\u001b[0;31mFileNotFoundError\u001b[0m                         Traceback (most recent call last)",
      "Cell \u001b[0;32mIn[6], line 1\u001b[0m\n\u001b[0;32m----> 1\u001b[0m \u001b[43mos\u001b[49m\u001b[38;5;241;43m.\u001b[39;49m\u001b[43mchdir\u001b[49m\u001b[43m(\u001b[49m\u001b[38;5;124;43m\"\u001b[39;49m\u001b[38;5;124;43m./Dataset\u001b[39;49m\u001b[38;5;124;43m\"\u001b[39;49m\u001b[43m)\u001b[49m\n",
      "\u001b[0;31mFileNotFoundError\u001b[0m: [Errno 2] No such file or directory: './Dataset'"
     ]
    }
   ],
   "source": [
    "os.chdir(\"./Dataset\")"
   ]
  },
  {
   "cell_type": "code",
   "execution_count": 5,
   "metadata": {},
   "outputs": [],
   "source": [
    "from fiona.drvsupport import supported_drivers\n",
    "supported_drivers['LIBKML'] = 'rw'"
   ]
  },
  {
   "cell_type": "code",
   "execution_count": 7,
   "metadata": {},
   "outputs": [],
   "source": [
    "from pykml import parser"
   ]
  },
  {
   "cell_type": "code",
   "execution_count": 8,
   "metadata": {},
   "outputs": [
    {
     "data": {
      "text/html": [
       "<div>\n",
       "<style scoped>\n",
       "    .dataframe tbody tr th:only-of-type {\n",
       "        vertical-align: middle;\n",
       "    }\n",
       "\n",
       "    .dataframe tbody tr th {\n",
       "        vertical-align: top;\n",
       "    }\n",
       "\n",
       "    .dataframe thead th {\n",
       "        text-align: right;\n",
       "    }\n",
       "</style>\n",
       "<table border=\"1\" class=\"dataframe\">\n",
       "  <thead>\n",
       "    <tr style=\"text-align: right;\">\n",
       "      <th></th>\n",
       "      <th>tessellate</th>\n",
       "      <th>extrude</th>\n",
       "      <th>visibility</th>\n",
       "      <th>id</th>\n",
       "      <th>fid</th>\n",
       "      <th>layer</th>\n",
       "      <th>path</th>\n",
       "      <th>Coordinates</th>\n",
       "    </tr>\n",
       "  </thead>\n",
       "  <tbody>\n",
       "    <tr>\n",
       "      <th>0</th>\n",
       "      <td>-1</td>\n",
       "      <td>0</td>\n",
       "      <td>-1</td>\n",
       "      <td>cugir009034.3</td>\n",
       "      <td>7624</td>\n",
       "      <td>clip_Bronx</td>\n",
       "      <td>/Users/killo/Desktop/Clip_Bronx.kml|layername=...</td>\n",
       "      <td>-73.919029,40.848199 -73.919329,40.847953 -73....</td>\n",
       "    </tr>\n",
       "    <tr>\n",
       "      <th>1</th>\n",
       "      <td>-1</td>\n",
       "      <td>0</td>\n",
       "      <td>-1</td>\n",
       "      <td>cugir009034.4</td>\n",
       "      <td>7625</td>\n",
       "      <td>clip_Bronx</td>\n",
       "      <td>/Users/killo/Desktop/Clip_Bronx.kml|layername=...</td>\n",
       "      <td>-73.921952,40.849629 -73.921911,40.849679 -73....</td>\n",
       "    </tr>\n",
       "    <tr>\n",
       "      <th>2</th>\n",
       "      <td>-1</td>\n",
       "      <td>0</td>\n",
       "      <td>-1</td>\n",
       "      <td>cugir009034.5</td>\n",
       "      <td>7626</td>\n",
       "      <td>clip_Bronx</td>\n",
       "      <td>/Users/killo/Desktop/Clip_Bronx.kml|layername=...</td>\n",
       "      <td>-73.920502,40.850113 -73.920453,40.850167 -73....</td>\n",
       "    </tr>\n",
       "    <tr>\n",
       "      <th>3</th>\n",
       "      <td>-1</td>\n",
       "      <td>0</td>\n",
       "      <td>-1</td>\n",
       "      <td>cugir009034.6</td>\n",
       "      <td>7627</td>\n",
       "      <td>clip_Bronx</td>\n",
       "      <td>/Users/killo/Desktop/Clip_Bronx.kml|layername=...</td>\n",
       "      <td>-73.92056,40.851403 -73.920531,40.851445 -73.9...</td>\n",
       "    </tr>\n",
       "    <tr>\n",
       "      <th>4</th>\n",
       "      <td>-1</td>\n",
       "      <td>0</td>\n",
       "      <td>-1</td>\n",
       "      <td>cugir009034.142</td>\n",
       "      <td>7829</td>\n",
       "      <td>clip_Bronx</td>\n",
       "      <td>/Users/killo/Desktop/Clip_Bronx.kml|layername=...</td>\n",
       "      <td>-73.912343,40.852184 -73.912472,40.852098 -73....</td>\n",
       "    </tr>\n",
       "  </tbody>\n",
       "</table>\n",
       "</div>"
      ],
      "text/plain": [
       "  tessellate extrude visibility               id   fid       layer  \\\n",
       "0         -1       0         -1    cugir009034.3  7624  clip_Bronx   \n",
       "1         -1       0         -1    cugir009034.4  7625  clip_Bronx   \n",
       "2         -1       0         -1    cugir009034.5  7626  clip_Bronx   \n",
       "3         -1       0         -1    cugir009034.6  7627  clip_Bronx   \n",
       "4         -1       0         -1  cugir009034.142  7829  clip_Bronx   \n",
       "\n",
       "                                                path  \\\n",
       "0  /Users/killo/Desktop/Clip_Bronx.kml|layername=...   \n",
       "1  /Users/killo/Desktop/Clip_Bronx.kml|layername=...   \n",
       "2  /Users/killo/Desktop/Clip_Bronx.kml|layername=...   \n",
       "3  /Users/killo/Desktop/Clip_Bronx.kml|layername=...   \n",
       "4  /Users/killo/Desktop/Clip_Bronx.kml|layername=...   \n",
       "\n",
       "                                         Coordinates  \n",
       "0  -73.919029,40.848199 -73.919329,40.847953 -73....  \n",
       "1  -73.921952,40.849629 -73.921911,40.849679 -73....  \n",
       "2  -73.920502,40.850113 -73.920453,40.850167 -73....  \n",
       "3  -73.92056,40.851403 -73.920531,40.851445 -73.9...  \n",
       "4  -73.912343,40.852184 -73.912472,40.852098 -73....  "
      ]
     },
     "execution_count": 8,
     "metadata": {},
     "output_type": "execute_result"
    }
   ],
   "source": [
    "with open(\"Building_Footprint.kml\",'r', encoding=\"utf-8\") as f:\n",
    "    root = parser.parse(f).getroot()\n",
    "    \n",
    "places = []\n",
    "for place in root.Document.Folder.Placemark:\n",
    "    data = {item.get(\"name\"):item.text for item in place.ExtendedData.SchemaData.SimpleData}\n",
    "    coords = place.MultiGeometry.Polygon.outerBoundaryIs.LinearRing.coordinates.text.strip()\n",
    "    data[\"Coordinates\"] = coords\n",
    "    places.append(data)\n",
    "    \n",
    "df = pd.DataFrame(places)\n",
    "df.head() "
   ]
  },
  {
   "cell_type": "code",
   "execution_count": 9,
   "metadata": {},
   "outputs": [
    {
     "data": {
      "text/html": [
       "<div>\n",
       "<style scoped>\n",
       "    .dataframe tbody tr th:only-of-type {\n",
       "        vertical-align: middle;\n",
       "    }\n",
       "\n",
       "    .dataframe tbody tr th {\n",
       "        vertical-align: top;\n",
       "    }\n",
       "\n",
       "    .dataframe thead th {\n",
       "        text-align: right;\n",
       "    }\n",
       "</style>\n",
       "<table border=\"1\" class=\"dataframe\">\n",
       "  <thead>\n",
       "    <tr style=\"text-align: right;\">\n",
       "      <th></th>\n",
       "      <th>tessellate</th>\n",
       "      <th>extrude</th>\n",
       "      <th>visibility</th>\n",
       "      <th>id</th>\n",
       "      <th>fid</th>\n",
       "      <th>layer</th>\n",
       "      <th>path</th>\n",
       "      <th>Coordinates</th>\n",
       "    </tr>\n",
       "  </thead>\n",
       "  <tbody>\n",
       "    <tr>\n",
       "      <th>9431</th>\n",
       "      <td>-1</td>\n",
       "      <td>0</td>\n",
       "      <td>-1</td>\n",
       "      <td>cugir009062.5858</td>\n",
       "      <td>4806054</td>\n",
       "      <td>clip_Manhattan</td>\n",
       "      <td>/Users/killo/Desktop/Clip_Manhattan.kml|layern...</td>\n",
       "      <td>-73.952668,40.779232 -73.95254,40.779428 -73.9...</td>\n",
       "    </tr>\n",
       "    <tr>\n",
       "      <th>9432</th>\n",
       "      <td>-1</td>\n",
       "      <td>0</td>\n",
       "      <td>-1</td>\n",
       "      <td>cugir009062.5859</td>\n",
       "      <td>4806055</td>\n",
       "      <td>clip_Manhattan</td>\n",
       "      <td>/Users/killo/Desktop/Clip_Manhattan.kml|layern...</td>\n",
       "      <td>-73.949638,40.776133 -73.949312,40.776674 -73....</td>\n",
       "    </tr>\n",
       "    <tr>\n",
       "      <th>9433</th>\n",
       "      <td>-1</td>\n",
       "      <td>0</td>\n",
       "      <td>-1</td>\n",
       "      <td>cugir009062.5860</td>\n",
       "      <td>4806056</td>\n",
       "      <td>clip_Manhattan</td>\n",
       "      <td>/Users/killo/Desktop/Clip_Manhattan.kml|layern...</td>\n",
       "      <td>-73.952102,40.768802 -73.951738,40.769309 -73....</td>\n",
       "    </tr>\n",
       "    <tr>\n",
       "      <th>9434</th>\n",
       "      <td>-1</td>\n",
       "      <td>0</td>\n",
       "      <td>-1</td>\n",
       "      <td>cugir009062.5861</td>\n",
       "      <td>4806068</td>\n",
       "      <td>clip_Manhattan</td>\n",
       "      <td>/Users/killo/Desktop/Clip_Manhattan.kml|layern...</td>\n",
       "      <td>-73.952297,40.75904 -73.952463,40.759083 -73.9...</td>\n",
       "    </tr>\n",
       "    <tr>\n",
       "      <th>9435</th>\n",
       "      <td>-1</td>\n",
       "      <td>0</td>\n",
       "      <td>-1</td>\n",
       "      <td>cugir009062.5862</td>\n",
       "      <td>4806069</td>\n",
       "      <td>clip_Manhattan</td>\n",
       "      <td>/Users/killo/Desktop/Clip_Manhattan.kml|layern...</td>\n",
       "      <td>-73.955791,40.763136 -73.956023,40.763121 -73....</td>\n",
       "    </tr>\n",
       "  </tbody>\n",
       "</table>\n",
       "</div>"
      ],
      "text/plain": [
       "     tessellate extrude visibility                id      fid           layer  \\\n",
       "9431         -1       0         -1  cugir009062.5858  4806054  clip_Manhattan   \n",
       "9432         -1       0         -1  cugir009062.5859  4806055  clip_Manhattan   \n",
       "9433         -1       0         -1  cugir009062.5860  4806056  clip_Manhattan   \n",
       "9434         -1       0         -1  cugir009062.5861  4806068  clip_Manhattan   \n",
       "9435         -1       0         -1  cugir009062.5862  4806069  clip_Manhattan   \n",
       "\n",
       "                                                   path  \\\n",
       "9431  /Users/killo/Desktop/Clip_Manhattan.kml|layern...   \n",
       "9432  /Users/killo/Desktop/Clip_Manhattan.kml|layern...   \n",
       "9433  /Users/killo/Desktop/Clip_Manhattan.kml|layern...   \n",
       "9434  /Users/killo/Desktop/Clip_Manhattan.kml|layern...   \n",
       "9435  /Users/killo/Desktop/Clip_Manhattan.kml|layern...   \n",
       "\n",
       "                                            Coordinates  \n",
       "9431  -73.952668,40.779232 -73.95254,40.779428 -73.9...  \n",
       "9432  -73.949638,40.776133 -73.949312,40.776674 -73....  \n",
       "9433  -73.952102,40.768802 -73.951738,40.769309 -73....  \n",
       "9434  -73.952297,40.75904 -73.952463,40.759083 -73.9...  \n",
       "9435  -73.955791,40.763136 -73.956023,40.763121 -73....  "
      ]
     },
     "execution_count": 9,
     "metadata": {},
     "output_type": "execute_result"
    }
   ],
   "source": [
    "df.tail()"
   ]
  },
  {
   "cell_type": "code",
   "execution_count": null,
   "metadata": {},
   "outputs": [],
   "source": []
  }
 ],
 "metadata": {
  "kernelspec": {
   "display_name": "Python 3",
   "language": "python",
   "name": "python3"
  },
  "language_info": {
   "codemirror_mode": {
    "name": "ipython",
    "version": 3
   },
   "file_extension": ".py",
   "mimetype": "text/x-python",
   "name": "python",
   "nbconvert_exporter": "python",
   "pygments_lexer": "ipython3",
   "version": "3.12.1"
  }
 },
 "nbformat": 4,
 "nbformat_minor": 2
}
